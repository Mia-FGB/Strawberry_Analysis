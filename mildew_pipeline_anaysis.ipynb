{
 "cells": [
  {
   "cell_type": "markdown",
   "metadata": {},
   "source": [
    "# Mildew read - genome coverage \n",
    "\n",
    "Notes here - https://docs.google.com/document/d/1UwfG-clsAUK8n0zq_ujWmCMoOYx3PKVOOspuUA4Audg/edit?tab=t.srzi3n7b5wr5\n",
    "Looking at the output from the emergent pathogen pipeline"
   ]
  },
  {
   "cell_type": "code",
   "execution_count": 2,
   "metadata": {},
   "outputs": [],
   "source": [
    "import pandas as pd\n",
    "import numpy as np\n",
    "import matplotlib.pyplot as plt\n",
    "import seaborn as sns"
   ]
  },
  {
   "cell_type": "code",
   "execution_count": 1,
   "metadata": {},
   "outputs": [
    {
     "ename": "NameError",
     "evalue": "name 'pd' is not defined",
     "output_type": "error",
     "traceback": [
      "\u001b[0;31m---------------------------------------------------------------------------\u001b[0m",
      "\u001b[0;31mNameError\u001b[0m                                 Traceback (most recent call last)",
      "Cell \u001b[0;32mIn[1], line 1\u001b[0m\n\u001b[0;32m----> 1\u001b[0m coverage \u001b[38;5;241m=\u001b[39m \u001b[43mpd\u001b[49m\u001b[38;5;241m.\u001b[39mread_csv(\u001b[38;5;124m'\u001b[39m\u001b[38;5;124m/Users/berelsom/Library/CloudStorage/OneDrive-NorwichBioScienceInstitutes/Air_Samples/Tiptree/Mildew/Pipeline_Output/genome_coverage_all.txt\u001b[39m\u001b[38;5;124m'\u001b[39m, sep\u001b[38;5;241m=\u001b[39m\u001b[38;5;124m'\u001b[39m\u001b[38;5;130;01m\\t\u001b[39;00m\u001b[38;5;124m'\u001b[39m)\n",
      "\u001b[0;31mNameError\u001b[0m: name 'pd' is not defined"
     ]
    }
   ],
   "source": [
    "coverage = pd.read_csv('/Users/berelsom/Library/CloudStorage/OneDrive-NorwichBioScienceInstitutes/Air_Samples/Tiptree/Mildew/Pipeline_Output/genome_coverage_all.txt', sep='\\t')  "
   ]
  },
  {
   "cell_type": "markdown",
   "metadata": {},
   "source": [
    "## Coverage\n",
    "Pick out other taxa with high coverage\n",
    "Plot average coverage for 3 taxa I am interested in (Strawberry genome is not in the reference database I used)\n",
    "- P aphanis 79252\n",
    "- B graminis 34373\n",
    "- E necator 52586\n",
    "\n"
   ]
  },
  {
   "cell_type": "code",
   "execution_count": null,
   "metadata": {},
   "outputs": [
    {
     "data": {
      "text/html": [
       "<div>\n",
       "<style scoped>\n",
       "    .dataframe tbody tr th:only-of-type {\n",
       "        vertical-align: middle;\n",
       "    }\n",
       "\n",
       "    .dataframe tbody tr th {\n",
       "        vertical-align: top;\n",
       "    }\n",
       "\n",
       "    .dataframe thead th {\n",
       "        text-align: right;\n",
       "    }\n",
       "</style>\n",
       "<table border=\"1\" class=\"dataframe\">\n",
       "  <thead>\n",
       "    <tr style=\"text-align: right;\">\n",
       "      <th></th>\n",
       "      <th>Barcode</th>\n",
       "      <th>taxaID</th>\n",
       "      <th>mapped_bases</th>\n",
       "      <th>genome_length</th>\n",
       "      <th>coverage_percentage</th>\n",
       "      <th>num_reads</th>\n",
       "    </tr>\n",
       "  </thead>\n",
       "  <tbody>\n",
       "    <tr>\n",
       "      <th>count</th>\n",
       "      <td>6781.000000</td>\n",
       "      <td>6.781000e+03</td>\n",
       "      <td>6.781000e+03</td>\n",
       "      <td>6.781000e+03</td>\n",
       "      <td>6781.000000</td>\n",
       "      <td>6781.000000</td>\n",
       "    </tr>\n",
       "    <tr>\n",
       "      <th>mean</th>\n",
       "      <td>23.531190</td>\n",
       "      <td>3.240203e+05</td>\n",
       "      <td>5.388387e+04</td>\n",
       "      <td>5.040837e+07</td>\n",
       "      <td>0.105910</td>\n",
       "      <td>67.172246</td>\n",
       "    </tr>\n",
       "    <tr>\n",
       "      <th>std</th>\n",
       "      <td>13.332434</td>\n",
       "      <td>5.156323e+05</td>\n",
       "      <td>6.854557e+05</td>\n",
       "      <td>6.581204e+07</td>\n",
       "      <td>1.232834</td>\n",
       "      <td>859.315254</td>\n",
       "    </tr>\n",
       "    <tr>\n",
       "      <th>min</th>\n",
       "      <td>1.000000</td>\n",
       "      <td>4.300000e+01</td>\n",
       "      <td>3.010000e+02</td>\n",
       "      <td>7.905170e+05</td>\n",
       "      <td>0.000000</td>\n",
       "      <td>1.000000</td>\n",
       "    </tr>\n",
       "    <tr>\n",
       "      <th>25%</th>\n",
       "      <td>12.000000</td>\n",
       "      <td>5.693000e+03</td>\n",
       "      <td>9.640000e+02</td>\n",
       "      <td>3.103646e+07</td>\n",
       "      <td>0.003200</td>\n",
       "      <td>2.000000</td>\n",
       "    </tr>\n",
       "    <tr>\n",
       "      <th>50%</th>\n",
       "      <td>23.000000</td>\n",
       "      <td>8.427500e+04</td>\n",
       "      <td>3.376000e+03</td>\n",
       "      <td>3.866458e+07</td>\n",
       "      <td>0.010600</td>\n",
       "      <td>5.000000</td>\n",
       "    </tr>\n",
       "    <tr>\n",
       "      <th>75%</th>\n",
       "      <td>35.000000</td>\n",
       "      <td>3.320340e+05</td>\n",
       "      <td>1.343400e+04</td>\n",
       "      <td>5.238704e+07</td>\n",
       "      <td>0.034400</td>\n",
       "      <td>17.000000</td>\n",
       "    </tr>\n",
       "    <tr>\n",
       "      <th>max</th>\n",
       "      <td>48.000000</td>\n",
       "      <td>2.813651e+06</td>\n",
       "      <td>2.182008e+07</td>\n",
       "      <td>1.016258e+09</td>\n",
       "      <td>39.240800</td>\n",
       "      <td>27357.000000</td>\n",
       "    </tr>\n",
       "  </tbody>\n",
       "</table>\n",
       "</div>"
      ],
      "text/plain": [
       "           Barcode        taxaID  mapped_bases  genome_length  \\\n",
       "count  6781.000000  6.781000e+03  6.781000e+03   6.781000e+03   \n",
       "mean     23.531190  3.240203e+05  5.388387e+04   5.040837e+07   \n",
       "std      13.332434  5.156323e+05  6.854557e+05   6.581204e+07   \n",
       "min       1.000000  4.300000e+01  3.010000e+02   7.905170e+05   \n",
       "25%      12.000000  5.693000e+03  9.640000e+02   3.103646e+07   \n",
       "50%      23.000000  8.427500e+04  3.376000e+03   3.866458e+07   \n",
       "75%      35.000000  3.320340e+05  1.343400e+04   5.238704e+07   \n",
       "max      48.000000  2.813651e+06  2.182008e+07   1.016258e+09   \n",
       "\n",
       "       coverage_percentage     num_reads  \n",
       "count          6781.000000   6781.000000  \n",
       "mean              0.105910     67.172246  \n",
       "std               1.232834    859.315254  \n",
       "min               0.000000      1.000000  \n",
       "25%               0.003200      2.000000  \n",
       "50%               0.010600      5.000000  \n",
       "75%               0.034400     17.000000  \n",
       "max              39.240800  27357.000000  "
      ]
     },
     "execution_count": 36,
     "metadata": {},
     "output_type": "execute_result"
    }
   ],
   "source": [
    "coverage.describe()"
   ]
  },
  {
   "cell_type": "code",
   "execution_count": null,
   "metadata": {},
   "outputs": [],
   "source": [
    "# Filter to see taxa with high coverage (Average 0.1, max is 39)\n",
    "coverage.sort_values(by='coverage_percentage', ascending=False).head(11)"
   ]
  },
  {
   "cell_type": "code",
   "execution_count": 24,
   "metadata": {},
   "outputs": [
    {
     "data": {
      "text/html": [
       "<div>\n",
       "<style scoped>\n",
       "    .dataframe tbody tr th:only-of-type {\n",
       "        vertical-align: middle;\n",
       "    }\n",
       "\n",
       "    .dataframe tbody tr th {\n",
       "        vertical-align: top;\n",
       "    }\n",
       "\n",
       "    .dataframe thead th {\n",
       "        text-align: right;\n",
       "    }\n",
       "</style>\n",
       "<table border=\"1\" class=\"dataframe\">\n",
       "  <thead>\n",
       "    <tr style=\"text-align: right;\">\n",
       "      <th></th>\n",
       "      <th>index</th>\n",
       "      <th>Barcode</th>\n",
       "      <th>taxaID</th>\n",
       "      <th>mapped_bases</th>\n",
       "      <th>genome_length</th>\n",
       "      <th>coverage_percentage</th>\n",
       "      <th>num_reads</th>\n",
       "    </tr>\n",
       "  </thead>\n",
       "  <tbody>\n",
       "    <tr>\n",
       "      <th>0</th>\n",
       "      <td>0</td>\n",
       "      <td>1</td>\n",
       "      <td>79252</td>\n",
       "      <td>2198</td>\n",
       "      <td>55605580</td>\n",
       "      <td>0.0040</td>\n",
       "      <td>2</td>\n",
       "    </tr>\n",
       "    <tr>\n",
       "      <th>1</th>\n",
       "      <td>2</td>\n",
       "      <td>2</td>\n",
       "      <td>79252</td>\n",
       "      <td>4799</td>\n",
       "      <td>55605580</td>\n",
       "      <td>0.0086</td>\n",
       "      <td>6</td>\n",
       "    </tr>\n",
       "    <tr>\n",
       "      <th>2</th>\n",
       "      <td>46</td>\n",
       "      <td>3</td>\n",
       "      <td>79252</td>\n",
       "      <td>9509697</td>\n",
       "      <td>55605580</td>\n",
       "      <td>17.1021</td>\n",
       "      <td>11567</td>\n",
       "    </tr>\n",
       "    <tr>\n",
       "      <th>3</th>\n",
       "      <td>54</td>\n",
       "      <td>3</td>\n",
       "      <td>34373</td>\n",
       "      <td>107967</td>\n",
       "      <td>141403166</td>\n",
       "      <td>0.0764</td>\n",
       "      <td>98</td>\n",
       "    </tr>\n",
       "    <tr>\n",
       "      <th>4</th>\n",
       "      <td>55</td>\n",
       "      <td>3</td>\n",
       "      <td>52586</td>\n",
       "      <td>74599</td>\n",
       "      <td>80917019</td>\n",
       "      <td>0.0922</td>\n",
       "      <td>68</td>\n",
       "    </tr>\n",
       "    <tr>\n",
       "      <th>...</th>\n",
       "      <td>...</td>\n",
       "      <td>...</td>\n",
       "      <td>...</td>\n",
       "      <td>...</td>\n",
       "      <td>...</td>\n",
       "      <td>...</td>\n",
       "      <td>...</td>\n",
       "    </tr>\n",
       "    <tr>\n",
       "      <th>130</th>\n",
       "      <td>6470</td>\n",
       "      <td>46</td>\n",
       "      <td>52586</td>\n",
       "      <td>91740</td>\n",
       "      <td>80917019</td>\n",
       "      <td>0.1134</td>\n",
       "      <td>81</td>\n",
       "    </tr>\n",
       "    <tr>\n",
       "      <th>131</th>\n",
       "      <td>6636</td>\n",
       "      <td>47</td>\n",
       "      <td>79252</td>\n",
       "      <td>14040319</td>\n",
       "      <td>55605580</td>\n",
       "      <td>25.2498</td>\n",
       "      <td>16924</td>\n",
       "    </tr>\n",
       "    <tr>\n",
       "      <th>132</th>\n",
       "      <td>6637</td>\n",
       "      <td>47</td>\n",
       "      <td>52586</td>\n",
       "      <td>107279</td>\n",
       "      <td>80917019</td>\n",
       "      <td>0.1326</td>\n",
       "      <td>101</td>\n",
       "    </tr>\n",
       "    <tr>\n",
       "      <th>133</th>\n",
       "      <td>6643</td>\n",
       "      <td>47</td>\n",
       "      <td>34373</td>\n",
       "      <td>113578</td>\n",
       "      <td>141403166</td>\n",
       "      <td>0.0803</td>\n",
       "      <td>120</td>\n",
       "    </tr>\n",
       "    <tr>\n",
       "      <th>134</th>\n",
       "      <td>6780</td>\n",
       "      <td>48</td>\n",
       "      <td>79252</td>\n",
       "      <td>1720</td>\n",
       "      <td>55605580</td>\n",
       "      <td>0.0031</td>\n",
       "      <td>2</td>\n",
       "    </tr>\n",
       "  </tbody>\n",
       "</table>\n",
       "<p>135 rows × 7 columns</p>\n",
       "</div>"
      ],
      "text/plain": [
       "     index  Barcode  taxaID  mapped_bases  genome_length  coverage_percentage  \\\n",
       "0        0        1   79252          2198       55605580               0.0040   \n",
       "1        2        2   79252          4799       55605580               0.0086   \n",
       "2       46        3   79252       9509697       55605580              17.1021   \n",
       "3       54        3   34373        107967      141403166               0.0764   \n",
       "4       55        3   52586         74599       80917019               0.0922   \n",
       "..     ...      ...     ...           ...            ...                  ...   \n",
       "130   6470       46   52586         91740       80917019               0.1134   \n",
       "131   6636       47   79252      14040319       55605580              25.2498   \n",
       "132   6637       47   52586        107279       80917019               0.1326   \n",
       "133   6643       47   34373        113578      141403166               0.0803   \n",
       "134   6780       48   79252          1720       55605580               0.0031   \n",
       "\n",
       "     num_reads  \n",
       "0            2  \n",
       "1            6  \n",
       "2        11567  \n",
       "3           98  \n",
       "4           68  \n",
       "..         ...  \n",
       "130         81  \n",
       "131      16924  \n",
       "132        101  \n",
       "133        120  \n",
       "134          2  \n",
       "\n",
       "[135 rows x 7 columns]"
      ]
     },
     "execution_count": 24,
     "metadata": {},
     "output_type": "execute_result"
    }
   ],
   "source": [
    "# Filter to the taxaID of interest\n",
    "taxaIDs = [79252, 34373, 52586, 3747]\n",
    "filtered_coverage = coverage[coverage['taxaID'].isin(taxaIDs)]\n",
    "#Group and calculate average \n",
    "avg_coverage = filtered_coverage.groupby('taxaID').mean()\n",
    "avg_coverage = filtered_coverage.reset_index()\n",
    "avg_coverage"
   ]
  },
  {
   "cell_type": "code",
   "execution_count": 35,
   "metadata": {},
   "outputs": [
    {
     "name": "stderr",
     "output_type": "stream",
     "text": [
      "/var/folders/ns/9skdzql508n7rzzgbqpc2wpw000f7r/T/ipykernel_86512/796211773.py:2: SettingWithCopyWarning: \n",
      "A value is trying to be set on a copy of a slice from a DataFrame.\n",
      "Try using .loc[row_indexer,col_indexer] = value instead\n",
      "\n",
      "See the caveats in the documentation: https://pandas.pydata.org/pandas-docs/stable/user_guide/indexing.html#returning-a-view-versus-a-copy\n",
      "  filtered_coverage['Species'] = filtered_coverage['taxaID'].map({79252: 'P_aphanis', 34373: 'B_graminis', 52586: 'E necator'})\n"
     ]
    },
    {
     "data": {
      "text/plain": [
       "Text(0.5, 0, 'Species')"
      ]
     },
     "execution_count": 35,
     "metadata": {},
     "output_type": "execute_result"
    },
    {
     "data": {
      "image/png": "[encoded data removed]",
      "text/plain": [
       "<Figure size 640x480 with 1 Axes>"
      ]
     },
     "metadata": {},
     "output_type": "display_data"
    }
   ],
   "source": [
    "# Add Species based on taxaID\n",
    "filtered_coverage['Species'] = filtered_coverage['taxaID'].map({79252: 'P_aphanis', 34373: 'B_graminis', 52586: 'E necator'})\n",
    "\n",
    "# Plot the coverage of the taxaIDs of interest as a boxplot\n",
    "sns.boxplot(\n",
    "    x='Species', \n",
    "    y='coverage_percentage', \n",
    "    data=filtered_coverage,\n",
    "    palette='viridis')\n",
    "\n",
    "plt.title('Genome Coverage of taxaIDs of interest')\n",
    "plt.ylabel('Genome Coverage (%)')\n",
    "plt.xlabel('Species')\n"
   ]
  },
  {
   "cell_type": "code",
   "execution_count": 37,
   "metadata": {},
   "outputs": [
    {
     "data": {
      "text/html": [
       "<div>\n",
       "<style scoped>\n",
       "    .dataframe tbody tr th:only-of-type {\n",
       "        vertical-align: middle;\n",
       "    }\n",
       "\n",
       "    .dataframe tbody tr th {\n",
       "        vertical-align: top;\n",
       "    }\n",
       "\n",
       "    .dataframe thead th {\n",
       "        text-align: right;\n",
       "    }\n",
       "</style>\n",
       "<table border=\"1\" class=\"dataframe\">\n",
       "  <thead>\n",
       "    <tr style=\"text-align: right;\">\n",
       "      <th></th>\n",
       "      <th>Barcode</th>\n",
       "      <th>taxaID</th>\n",
       "      <th>mapped_bases</th>\n",
       "      <th>genome_length</th>\n",
       "      <th>coverage_percentage</th>\n",
       "      <th>num_reads</th>\n",
       "    </tr>\n",
       "  </thead>\n",
       "  <tbody>\n",
       "    <tr>\n",
       "      <th>count</th>\n",
       "      <td>47.000000</td>\n",
       "      <td>47.0</td>\n",
       "      <td>4.700000e+01</td>\n",
       "      <td>47.0</td>\n",
       "      <td>47.000000</td>\n",
       "      <td>47.000000</td>\n",
       "    </tr>\n",
       "    <tr>\n",
       "      <th>mean</th>\n",
       "      <td>24.191489</td>\n",
       "      <td>79252.0</td>\n",
       "      <td>5.679312e+06</td>\n",
       "      <td>55605580.0</td>\n",
       "      <td>10.213566</td>\n",
       "      <td>7264.893617</td>\n",
       "    </tr>\n",
       "    <tr>\n",
       "      <th>std</th>\n",
       "      <td>13.985456</td>\n",
       "      <td>0.0</td>\n",
       "      <td>6.039585e+06</td>\n",
       "      <td>0.0</td>\n",
       "      <td>10.861471</td>\n",
       "      <td>7433.847305</td>\n",
       "    </tr>\n",
       "    <tr>\n",
       "      <th>min</th>\n",
       "      <td>1.000000</td>\n",
       "      <td>79252.0</td>\n",
       "      <td>1.720000e+03</td>\n",
       "      <td>55605580.0</td>\n",
       "      <td>0.003100</td>\n",
       "      <td>2.000000</td>\n",
       "    </tr>\n",
       "    <tr>\n",
       "      <th>25%</th>\n",
       "      <td>12.500000</td>\n",
       "      <td>79252.0</td>\n",
       "      <td>1.210644e+06</td>\n",
       "      <td>55605580.0</td>\n",
       "      <td>2.177200</td>\n",
       "      <td>1973.500000</td>\n",
       "    </tr>\n",
       "    <tr>\n",
       "      <th>50%</th>\n",
       "      <td>24.000000</td>\n",
       "      <td>79252.0</td>\n",
       "      <td>2.960455e+06</td>\n",
       "      <td>55605580.0</td>\n",
       "      <td>5.324000</td>\n",
       "      <td>4489.000000</td>\n",
       "    </tr>\n",
       "    <tr>\n",
       "      <th>75%</th>\n",
       "      <td>35.500000</td>\n",
       "      <td>79252.0</td>\n",
       "      <td>9.522438e+06</td>\n",
       "      <td>55605580.0</td>\n",
       "      <td>17.125000</td>\n",
       "      <td>11400.000000</td>\n",
       "    </tr>\n",
       "    <tr>\n",
       "      <th>max</th>\n",
       "      <td>48.000000</td>\n",
       "      <td>79252.0</td>\n",
       "      <td>2.182008e+07</td>\n",
       "      <td>55605580.0</td>\n",
       "      <td>39.240800</td>\n",
       "      <td>27357.000000</td>\n",
       "    </tr>\n",
       "  </tbody>\n",
       "</table>\n",
       "</div>"
      ],
      "text/plain": [
       "         Barcode   taxaID  mapped_bases  genome_length  coverage_percentage  \\\n",
       "count  47.000000     47.0  4.700000e+01           47.0            47.000000   \n",
       "mean   24.191489  79252.0  5.679312e+06     55605580.0            10.213566   \n",
       "std    13.985456      0.0  6.039585e+06            0.0            10.861471   \n",
       "min     1.000000  79252.0  1.720000e+03     55605580.0             0.003100   \n",
       "25%    12.500000  79252.0  1.210644e+06     55605580.0             2.177200   \n",
       "50%    24.000000  79252.0  2.960455e+06     55605580.0             5.324000   \n",
       "75%    35.500000  79252.0  9.522438e+06     55605580.0            17.125000   \n",
       "max    48.000000  79252.0  2.182008e+07     55605580.0            39.240800   \n",
       "\n",
       "          num_reads  \n",
       "count     47.000000  \n",
       "mean    7264.893617  \n",
       "std     7433.847305  \n",
       "min        2.000000  \n",
       "25%     1973.500000  \n",
       "50%     4489.000000  \n",
       "75%    11400.000000  \n",
       "max    27357.000000  "
      ]
     },
     "execution_count": 37,
     "metadata": {},
     "output_type": "execute_result"
    }
   ],
   "source": [
    "mildew_coverage = coverage[coverage['taxaID'] == 79252]\n",
    "mildew_coverage.describe()"
   ]
  },
  {
   "cell_type": "code",
   "execution_count": 41,
   "metadata": {},
   "outputs": [
    {
     "data": {
      "text/html": [
       "<div>\n",
       "<style scoped>\n",
       "    .dataframe tbody tr th:only-of-type {\n",
       "        vertical-align: middle;\n",
       "    }\n",
       "\n",
       "    .dataframe tbody tr th {\n",
       "        vertical-align: top;\n",
       "    }\n",
       "\n",
       "    .dataframe thead th {\n",
       "        text-align: right;\n",
       "    }\n",
       "</style>\n",
       "<table border=\"1\" class=\"dataframe\">\n",
       "  <thead>\n",
       "    <tr style=\"text-align: right;\">\n",
       "      <th></th>\n",
       "      <th>Barcode</th>\n",
       "      <th>taxaID</th>\n",
       "      <th>mapped_bases</th>\n",
       "      <th>genome_length</th>\n",
       "      <th>coverage_percentage</th>\n",
       "      <th>num_reads</th>\n",
       "    </tr>\n",
       "  </thead>\n",
       "  <tbody>\n",
       "    <tr>\n",
       "      <th>46</th>\n",
       "      <td>3</td>\n",
       "      <td>79252</td>\n",
       "      <td>9509697</td>\n",
       "      <td>55605580</td>\n",
       "      <td>17.1021</td>\n",
       "      <td>11567</td>\n",
       "    </tr>\n",
       "  </tbody>\n",
       "</table>\n",
       "</div>"
      ],
      "text/plain": [
       "    Barcode  taxaID  mapped_bases  genome_length  coverage_percentage  \\\n",
       "46        3   79252       9509697       55605580              17.1021   \n",
       "\n",
       "    num_reads  \n",
       "46      11567  "
      ]
     },
     "execution_count": 41,
     "metadata": {},
     "output_type": "execute_result"
    }
   ],
   "source": [
    "mildew_coverage[mildew_coverage['Barcode']== 3]"
   ]
  },
  {
   "cell_type": "markdown",
   "metadata": {},
   "source": [
    "## Looking at the coverage from all the reads mapped as one\n",
    "\n",
    "- Initially data from combined read through pipeline to emergent pathogen database outpu as PAF\n",
    "- Follow up SAM output of all reads just to *P aphanis* refernce"
   ]
  },
  {
   "cell_type": "code",
   "execution_count": 3,
   "metadata": {},
   "outputs": [
    {
     "data": {
      "text/html": [
       "<div>\n",
       "<style scoped>\n",
       "    .dataframe tbody tr th:only-of-type {\n",
       "        vertical-align: middle;\n",
       "    }\n",
       "\n",
       "    .dataframe tbody tr th {\n",
       "        vertical-align: top;\n",
       "    }\n",
       "\n",
       "    .dataframe thead th {\n",
       "        text-align: right;\n",
       "    }\n",
       "</style>\n",
       "<table border=\"1\" class=\"dataframe\">\n",
       "  <thead>\n",
       "    <tr style=\"text-align: right;\">\n",
       "      <th></th>\n",
       "      <th>taxaID</th>\n",
       "      <th>mapped_bases</th>\n",
       "      <th>genome_length</th>\n",
       "      <th>coverage_percentage</th>\n",
       "      <th>num_reads</th>\n",
       "    </tr>\n",
       "  </thead>\n",
       "  <tbody>\n",
       "    <tr>\n",
       "      <th>108</th>\n",
       "      <td>79252</td>\n",
       "      <td>266927647</td>\n",
       "      <td>55605580</td>\n",
       "      <td>480.0375</td>\n",
       "      <td>341450</td>\n",
       "    </tr>\n",
       "    <tr>\n",
       "      <th>278</th>\n",
       "      <td>1592451</td>\n",
       "      <td>2546180</td>\n",
       "      <td>23602720</td>\n",
       "      <td>10.7877</td>\n",
       "      <td>2628</td>\n",
       "    </tr>\n",
       "    <tr>\n",
       "      <th>0</th>\n",
       "      <td>5599</td>\n",
       "      <td>2564608</td>\n",
       "      <td>32990834</td>\n",
       "      <td>7.7737</td>\n",
       "      <td>2610</td>\n",
       "    </tr>\n",
       "    <tr>\n",
       "      <th>217</th>\n",
       "      <td>167740</td>\n",
       "      <td>2543938</td>\n",
       "      <td>34346950</td>\n",
       "      <td>7.4066</td>\n",
       "      <td>2653</td>\n",
       "    </tr>\n",
       "    <tr>\n",
       "      <th>112</th>\n",
       "      <td>29001</td>\n",
       "      <td>2050465</td>\n",
       "      <td>31036461</td>\n",
       "      <td>6.6066</td>\n",
       "      <td>2082</td>\n",
       "    </tr>\n",
       "  </tbody>\n",
       "</table>\n",
       "</div>"
      ],
      "text/plain": [
       "      taxaID  mapped_bases  genome_length  coverage_percentage  num_reads\n",
       "108    79252     266927647       55605580             480.0375     341450\n",
       "278  1592451       2546180       23602720              10.7877       2628\n",
       "0       5599       2564608       32990834               7.7737       2610\n",
       "217   167740       2543938       34346950               7.4066       2653\n",
       "112    29001       2050465       31036461               6.6066       2082"
      ]
     },
     "execution_count": 3,
     "metadata": {},
     "output_type": "execute_result"
    }
   ],
   "source": [
    "comb_coverage = pd.read_csv('/Users/berelsom/Library/CloudStorage/OneDrive-NorwichBioScienceInstitutes/Air_Samples/Tiptree/Mildew/Pipeline_Output/genome_coverage_comb.txt', sep='\\t')  \n",
    "comb_coverage.sort_values(by='coverage_percentage', ascending=False).head(5)"
   ]
  },
  {
   "cell_type": "markdown",
   "metadata": {},
   "source": [
    "SAM coverage output \n",
    "\n",
    "`samtools depth -a comb_mapped.sorted.bam > coverage.txt`"
   ]
  },
  {
   "cell_type": "code",
   "execution_count": 11,
   "metadata": {},
   "outputs": [
    {
     "data": {
      "text/plain": [
       "12319"
      ]
     },
     "execution_count": 11,
     "metadata": {},
     "output_type": "execute_result"
    }
   ],
   "source": [
    "depth = pd.read_csv(\"/Users/berelsom/Library/CloudStorage/OneDrive-NorwichBioScienceInstitutes/Air_Samples/Tiptree/Mildew/coverage.txt\",\n",
    "                     sep='\\t',  names=[\"Contig\", \"Position\", \"Depth\"])\n",
    "\n",
    "depth['Contig'].nunique()"
   ]
  },
  {
   "cell_type": "code",
   "execution_count": 14,
   "metadata": {},
   "outputs": [
    {
     "name": "stdout",
     "output_type": "stream",
     "text": [
      "Overall Average Genome Coverage: 26.24x\n",
      "Overall Maximum Genome Coverage: 9595.00x\n",
      "Overall Minimum Genome Coverage: 0.00x\n"
     ]
    }
   ],
   "source": [
    "overall_avg_depth = depth[\"Depth\"].mean()\n",
    "overall_max_depth = depth[\"Depth\"].max()\n",
    "overall_min_depth = depth[\"Depth\"].min()\n",
    "print(f\"Overall Average Genome Coverage: {overall_avg_depth:.2f}x\")\n",
    "print(f\"Overall Maximum Genome Coverage: {overall_max_depth:.2f}x\")\n",
    "print(f\"Overall Minimum Genome Coverage: {overall_min_depth:.2f}x\")\n",
    "\n"
   ]
  },
  {
   "cell_type": "code",
   "execution_count": null,
   "metadata": {},
   "outputs": [],
   "source": [
    "# Aggregate coverage by contig\n",
    "contig_coverage = depth.groupby('Contig')['Depth'].sum().reset_index()"
   ]
  },
  {
   "cell_type": "code",
   "execution_count": 26,
   "metadata": {},
   "outputs": [
    {
     "data": {
      "text/html": [
       "<div>\n",
       "<style scoped>\n",
       "    .dataframe tbody tr th:only-of-type {\n",
       "        vertical-align: middle;\n",
       "    }\n",
       "\n",
       "    .dataframe tbody tr th {\n",
       "        vertical-align: top;\n",
       "    }\n",
       "\n",
       "    .dataframe thead th {\n",
       "        text-align: right;\n",
       "    }\n",
       "</style>\n",
       "<table border=\"1\" class=\"dataframe\">\n",
       "  <thead>\n",
       "    <tr style=\"text-align: right;\">\n",
       "      <th></th>\n",
       "      <th>Depth</th>\n",
       "    </tr>\n",
       "  </thead>\n",
       "  <tbody>\n",
       "    <tr>\n",
       "      <th>count</th>\n",
       "      <td>1.231900e+04</td>\n",
       "    </tr>\n",
       "    <tr>\n",
       "      <th>mean</th>\n",
       "      <td>1.183509e+05</td>\n",
       "    </tr>\n",
       "    <tr>\n",
       "      <th>std</th>\n",
       "      <td>3.283012e+05</td>\n",
       "    </tr>\n",
       "    <tr>\n",
       "      <th>min</th>\n",
       "      <td>4.700000e+01</td>\n",
       "    </tr>\n",
       "    <tr>\n",
       "      <th>25%</th>\n",
       "      <td>1.062300e+04</td>\n",
       "    </tr>\n",
       "    <tr>\n",
       "      <th>50%</th>\n",
       "      <td>4.000500e+04</td>\n",
       "    </tr>\n",
       "    <tr>\n",
       "      <th>75%</th>\n",
       "      <td>1.271570e+05</td>\n",
       "    </tr>\n",
       "    <tr>\n",
       "      <th>max</th>\n",
       "      <td>1.401932e+07</td>\n",
       "    </tr>\n",
       "  </tbody>\n",
       "</table>\n",
       "</div>"
      ],
      "text/plain": [
       "              Depth\n",
       "count  1.231900e+04\n",
       "mean   1.183509e+05\n",
       "std    3.283012e+05\n",
       "min    4.700000e+01\n",
       "25%    1.062300e+04\n",
       "50%    4.000500e+04\n",
       "75%    1.271570e+05\n",
       "max    1.401932e+07"
      ]
     },
     "execution_count": 26,
     "metadata": {},
     "output_type": "execute_result"
    }
   ],
   "source": [
    "contig_coverage.describe()"
   ]
  },
  {
   "cell_type": "code",
   "execution_count": 32,
   "metadata": {},
   "outputs": [
    {
     "data": {
      "image/png": "[encoded data removed]",
      "text/plain": [
       "<Figure size 1200x600 with 1 Axes>"
      ]
     },
     "metadata": {},
     "output_type": "display_data"
    }
   ],
   "source": [
    "from matplotlib.ticker import MaxNLocator\n",
    "\n",
    "# Plot the bar chart\n",
    "plt.figure(figsize=(12, 6))\n",
    "sns.barplot(x='Contig', y='Depth', data=contig_coverage)\n",
    "plt.title('Total Coverage per Contig')\n",
    "plt.xlabel('Contig')\n",
    "plt.ylabel('Average Depth per Contig')\n",
    "plt.xticks([])  # Remove x-axis labels\n",
    "plt.ylim(0, 8000000)  # Set y-axis limits\n",
    "plt.gca().yaxis.set_major_formatter(plt.FuncFormatter(lambda x, loc: \"{:,}\".format(int(x))))  # Format y-axis with commas\n",
    "plt.show()\n"
   ]
  },
  {
   "cell_type": "markdown",
   "metadata": {},
   "source": [
    "Try plotting with bins - but I want to see all the contigs not just one and there are 12k"
   ]
  },
  {
   "cell_type": "code",
   "execution_count": null,
   "metadata": {},
   "outputs": [
    {
     "data": {
      "image/png": "[encoded data removed]",
      "text/plain": [
       "<Figure size 1200x600 with 1 Axes>"
      ]
     },
     "metadata": {},
     "output_type": "display_data"
    }
   ],
   "source": [
    "\n",
    "# Define bin size (e.g., 10,000 bp)\n",
    "bin_size = 10000\n",
    "depth[\"Bin\"] = (depth[\"Position\"] // bin_size) * bin_size  # Create bins\n",
    "\n",
    "# Aggregate: Average depth per bin\n",
    "binned_coverage = depth.groupby([\"Contig\", \"Bin\"])[\"Depth\"].mean().reset_index()\n",
    "\n",
    "# Plot one contig\n",
    "contig_name = depth[\"Contig\"].unique()[0]  # Pick a contig\n",
    "df_contig = binned_coverage[binned_coverage[\"Contig\"] == contig_name]\n",
    "\n",
    "plt.figure(figsize=(12, 6))\n",
    "plt.plot(df_contig[\"Bin\"], df_contig[\"Depth\"], color=\"blue\", linewidth=0.7)\n",
    "plt.xlabel(\"Genomic Position (binned)\")\n",
    "plt.ylabel(\"Mean Coverage Depth\")\n",
    "plt.title(f\"Coverage Plot for {contig_name} (Binned)\")\n",
    "plt.grid(True)\n",
    "plt.show()\n"
   ]
  },
  {
   "cell_type": "code",
   "execution_count": null,
   "metadata": {},
   "outputs": [],
   "source": []
  }
 ],
 "metadata": {
  "kernelspec": {
   "display_name": "24hr_env",
   "language": "python",
   "name": "python3"
  },
  "language_info": {
   "codemirror_mode": {
    "name": "ipython",
    "version": 3
   },
   "file_extension": ".py",
   "mimetype": "text/x-python",
   "name": "python",
   "nbconvert_exporter": "python",
   "pygments_lexer": "ipython3",
   "version": "3.9.18"
  }
 },
 "nbformat": 4,
 "nbformat_minor": 2
}
